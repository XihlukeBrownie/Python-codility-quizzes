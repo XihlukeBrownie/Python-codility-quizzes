{
 "cells": [
  {
   "cell_type": "markdown",
   "id": "9169886c",
   "metadata": {},
   "source": []
  },
  {
   "cell_type": "markdown",
   "id": "18741992",
   "metadata": {},
   "source": [
    "## Overview"
   ]
  },
  {
   "cell_type": "markdown",
   "id": "4052c891",
   "metadata": {},
   "source": [
    "### Chapter 1: Codility Assessments"
   ]
  },
  {
   "cell_type": "markdown",
   "id": "effb9d67",
   "metadata": {},
   "source": [
    "        1.1) Convert a list into a string.\n",
    "\n",
    "        1.2) Combine elements of a string list into one long string.\n",
    "\n",
    "        1.3) Write a program that takes a list of numbers and returns the smallest positive number that isnt in the list. ***\n",
    "        e.g A = [1, 2, 3], 4 should be returned.\n",
    "\n",
    "        1.4) Count the occurences of a certain element in a list.\n",
    "\n",
    "        1.5) Count the occurences of a each element in a list.\n",
    "\n",
    "        1.6) find the average of numbers in a list.\n",
    "\n",
    "        1.7) Write a Python Program to Check if a string is\n",
    "        a Palindrome or not? *.\n",
    "\n",
    "        1.8) Write a Python Program to Count the Number of Digits in a Number.\n",
    "\n",
    "        1.9) Write a Python Program to Check if a Number is a Prime Number.\n",
    "\n",
    "        1.10) Write a Python Program to Check if a Number is an Armstrong Number.\n",
    "\n",
    "        1.11) Write a Python Program to Check if a Number is a Perfect Number.\n",
    "\n",
    "        1.12) Write a Python Program to Find the Second Largest Number in a List.\n",
    "\n",
    "        1.13) Write a Python Program to Swap the First and Last Value of a List.\n",
    "\n",
    "        1.14) Write a Python Program to Count the Number of Vowels in a String.\n",
    "\n",
    "        1.15) Write a Python Program to Check Common Letters in Two Input Strings*."
   ]
  },
  {
   "cell_type": "markdown",
   "id": "4a7f09da",
   "metadata": {},
   "source": [
    "### Chapter 2: Statistical data analysis/Modeling"
   ]
  },
  {
   "cell_type": "markdown",
   "id": "0b07024e",
   "metadata": {},
   "source": [
    "2.1) Descriptive Analysis.\n",
    "\n",
    "    2.1.1) Student Arrivals at the University of Pretoria.\n",
    "    \n",
    "    2.1.2) Impact of Covid-19 on Learning\n",
    "\n",
    "2.2) Predictive Modeling.\n",
    "\n",
    "    2.2.1) Prediticting Future Sales"
   ]
  },
  {
   "cell_type": "markdown",
   "id": "68e38208",
   "metadata": {},
   "source": [
    "### Chapter 1: Codilty Assessments/Quizzes"
   ]
  },
  {
   "cell_type": "markdown",
   "id": "968d61b5",
   "metadata": {},
   "source": [
    "1.1) Convert a list into a string"
   ]
  },
  {
   "cell_type": "code",
   "execution_count": 302,
   "id": "8cc305ad",
   "metadata": {},
   "outputs": [
    {
     "name": "stdout",
     "output_type": "stream",
     "text": [
      "Converted list: [1, 2, 3, 4, 5]\n",
      "List type: <class 'list'>\n",
      "Converted list type: <class 'str'>\n"
     ]
    }
   ],
   "source": [
    "#Example\n",
    "\n",
    "List = [1, 2, 3, 4, 5]\n",
    "\n",
    "def convert_list_to_string(L):\n",
    "    string_list = str(L)\n",
    "    return string_list\n",
    "\n",
    "converted_list = convert_list_to_string(List)\n",
    "print (\"Converted list:\", converted_list)\n",
    "print(\"List type:\", type(List))\n",
    "print(\"Converted list type:\", type(converted_list))"
   ]
  },
  {
   "cell_type": "markdown",
   "id": "53348c10",
   "metadata": {},
   "source": [
    "1.2) Now that you can convert a list into a string, you can also combine elements of a string list into one long string. Interesting nuh!?"
   ]
  },
  {
   "cell_type": "code",
   "execution_count": 303,
   "id": "079b493e",
   "metadata": {},
   "outputs": [
    {
     "data": {
      "text/plain": [
       "'I  love coding so much'"
      ]
     },
     "execution_count": 303,
     "metadata": {},
     "output_type": "execute_result"
    }
   ],
   "source": [
    "# Example\n",
    "\n",
    "#\"\"\" We do this by using the .join() function. \"\"\"\n",
    "\n",
    "string_elements = [\"I \", \"love\", \"coding\", \"so\", \"much\"]\n",
    "joined_elements = \" \".join(string_elements)\n",
    "joined_elements"
   ]
  },
  {
   "cell_type": "markdown",
   "id": "4dab92a6",
   "metadata": {},
   "source": [
    "1.3) Write a program that takes a list of numbers and returns the smallest positive number that isnt in the list. ***\n",
    "e.g A = [1, 2, 3], 4 should be returned"
   ]
  },
  {
   "cell_type": "code",
   "execution_count": 304,
   "id": "a78bb2e8",
   "metadata": {},
   "outputs": [
    {
     "data": {
      "text/plain": [
       "4"
      ]
     },
     "execution_count": 304,
     "metadata": {},
     "output_type": "execute_result"
    }
   ],
   "source": [
    "\n",
    "def solution(List):\n",
    "    \n",
    "    elements = []\n",
    "    length = len(List)\n",
    "#     List.sort()\n",
    "    \n",
    "    for i in range(1, length + 1):\n",
    "        \n",
    "        if List.count(i) == 0:\n",
    "            ans = i \n",
    "            break\n",
    "        \n",
    "        elif List[i-1] < 0:\n",
    "            ans = 1\n",
    "        \n",
    "        \n",
    "        elif i == List[i-1]:\n",
    "            elements.append(i)\n",
    "            elements.append(i)\n",
    "            ans = elements[-1] + 1\n",
    "            \n",
    "            \n",
    "#         ans = elements[1]\n",
    "\n",
    "    return(ans)\n",
    "\n",
    "# Check lists: [1, 2, 3], [-1, -3, 5], [1, 3, 4, 5]\n",
    "\n",
    "solution([1, 2, 3])"
   ]
  },
  {
   "cell_type": "markdown",
   "id": "a16aa6a5",
   "metadata": {},
   "source": [
    "1.4) Count the occurences of a certain element in a list"
   ]
  },
  {
   "cell_type": "code",
   "execution_count": 305,
   "id": "cabaefbb",
   "metadata": {},
   "outputs": [
    {
     "name": "stdout",
     "output_type": "stream",
     "text": [
      "5\n"
     ]
    }
   ],
   "source": [
    "#Example\n",
    "\n",
    "values = [1, 1, 1, 2, 1,3, 4, 1, 5, 4]\n",
    "print(values.count(1)) #How many times does the number 1 occur in the list"
   ]
  },
  {
   "cell_type": "markdown",
   "id": "59f565ae",
   "metadata": {},
   "source": [
    "1.5) Count the occurences of a each element in a list"
   ]
  },
  {
   "cell_type": "code",
   "execution_count": 306,
   "id": "58be75bc",
   "metadata": {},
   "outputs": [
    {
     "data": {
      "text/plain": [
       "([1, 1, 1, 2, 1, 3, 4, 1, 5, 4], [5, 5, 5, 1, 5, 1, 2, 5, 1, 2])"
      ]
     },
     "execution_count": 306,
     "metadata": {},
     "output_type": "execute_result"
    }
   ],
   "source": [
    "\n",
    "occurences = []\n",
    "def occurence(List):\n",
    "    for i in (List):\n",
    "        occurence1 = List.count(i)\n",
    "        occurences.append(occurence1)\n",
    "    return List, occurences\n",
    "        \n",
    "list1 = [1, 1, 1, 2, 1,3, 4, 1, 5, 4]\n",
    "occurence(list1)"
   ]
  },
  {
   "cell_type": "markdown",
   "id": "ae72ed7e",
   "metadata": {},
   "source": [
    "1.6) find the average of numbers in a list"
   ]
  },
  {
   "cell_type": "code",
   "execution_count": 307,
   "id": "cf4a13b3",
   "metadata": {},
   "outputs": [
    {
     "data": {
      "text/plain": [
       "2.3"
      ]
     },
     "execution_count": 307,
     "metadata": {},
     "output_type": "execute_result"
    }
   ],
   "source": [
    "def average(List):\n",
    "    return sum(List)/len(List)\n",
    "average(list1)"
   ]
  },
  {
   "cell_type": "markdown",
   "id": "960ccbdb",
   "metadata": {},
   "source": [
    "1.7) Write a Python Program to Check if a string is\n",
    "a Palindrome or not? *\n",
    "- A word, phrase, or sequence that reads the same backwards as forwards, e.g. madam or nurses run"
   ]
  },
  {
   "cell_type": "code",
   "execution_count": 308,
   "id": "bf859c20",
   "metadata": {},
   "outputs": [
    {
     "name": "stdout",
     "output_type": "stream",
     "text": [
      "[0 1 2 3]\n",
      "[3, 2, 1, 0]\n",
      "<class 'list'>\n"
     ]
    },
    {
     "data": {
      "text/plain": [
       "('abam', 'is not a Palindrome')"
      ]
     },
     "execution_count": 308,
     "metadata": {},
     "output_type": "execute_result"
    }
   ],
   "source": [
    "import numpy as np\n",
    "\n",
    "backward = []\n",
    "def palindrome_check(string):\n",
    "#     string = str(string)\n",
    "    #The string reads foward as normal\n",
    "    #I then create the backward reading of the string\n",
    "    \n",
    "    length = len(string)\n",
    "    length_range = np.arange(0, length)\n",
    "    print(length_range)\n",
    "    length_range = list(length_range)\n",
    "    length_range.reverse()\n",
    "    print(length_range)\n",
    "    \n",
    "    for i in length_range:\n",
    "        backward.append(string[i])\n",
    "        string = list(string)\n",
    "        \n",
    "        \n",
    "    print(type(backward))\n",
    "        \n",
    "    if string == backward:\n",
    "        ans = \"is a Palindrome\"\n",
    "    \n",
    "    else:\n",
    "        ans = \"is not a Palindrome\"\n",
    "        \n",
    "    return \"\".join(string), ans\n",
    "    \n",
    "\n",
    "palindrome_check('abam')"
   ]
  },
  {
   "cell_type": "markdown",
   "id": "4d57892c",
   "metadata": {},
   "source": [
    "1.8) Write a Python Program to Count the Number of Digits in a Number?"
   ]
  },
  {
   "cell_type": "code",
   "execution_count": 309,
   "id": "1b701a46",
   "metadata": {},
   "outputs": [
    {
     "data": {
      "text/plain": [
       "9"
      ]
     },
     "execution_count": 309,
     "metadata": {},
     "output_type": "execute_result"
    }
   ],
   "source": [
    "def count_digits(number):\n",
    "    string = str(number)\n",
    "    Count = len(string)\n",
    "    return Count\n",
    "\n",
    "count_digits(114455698)"
   ]
  },
  {
   "cell_type": "markdown",
   "id": "a36f6ac0",
   "metadata": {},
   "source": [
    "1.9) Write a Python Program to Check if a Number is a Prime Number?"
   ]
  },
  {
   "cell_type": "code",
   "execution_count": 310,
   "id": "0af44576",
   "metadata": {},
   "outputs": [
    {
     "name": "stdout",
     "output_type": "stream",
     "text": [
      "100 is not a prime number\n"
     ]
    }
   ],
   "source": [
    "#A prime number is divisible by one and itself only\n",
    "#By definition, prime numbers are greater than 1\n",
    "\n",
    "def check_prime(number):\n",
    "    if number > 1:\n",
    "        \n",
    "        for i in range(2, number):\n",
    "            if number%i == 0:\n",
    "                print(number, \"is not a prime number\")\n",
    "                break\n",
    "                \n",
    "        else:\n",
    "            print(number, \"is a prime number\") \n",
    "    else:\n",
    "        print(number, \"is not a prime number\") # This is for when one is the input\n",
    "             \n",
    "\n",
    "check_prime(100)"
   ]
  },
  {
   "cell_type": "markdown",
   "id": "ef341ecf",
   "metadata": {},
   "source": [
    "1.10) Write a Python Program to Check if a Number is an Armstrong Number?\n",
    "An Armstrong number of three digits is an integer such that the sum of the cubes of its digits is equal to the number itself. For example, 371 is an Armstrong number since 3^3 + 7^3 + 1^3 = 371."
   ]
  },
  {
   "cell_type": "code",
   "execution_count": 311,
   "id": "e8c7b026",
   "metadata": {},
   "outputs": [
    {
     "data": {
      "text/plain": [
       "(370, ' is an armstrong number')"
      ]
     },
     "execution_count": 311,
     "metadata": {},
     "output_type": "execute_result"
    }
   ],
   "source": [
    "\n",
    "elements = []\n",
    "arms_terms = []\n",
    "def armstrong_number_check(number):\n",
    "    #I will convert number into string\n",
    "    #I will then break the number into single elements\n",
    "    #then convert each string back to iterable numbers\n",
    "    \n",
    "    string = str(number)\n",
    "    for i in string:\n",
    "        num = int(i)\n",
    "        arms_term = num**3\n",
    "        arms_terms.append(arms_term)\n",
    "        elements.append(num)\n",
    "        \n",
    "        if sum(arms_terms) == number:\n",
    "            ans = \" is an armstrong number\"\n",
    "            \n",
    "        else:\n",
    "            ans = \"is not an armstrong number\"\n",
    "            \n",
    "    return number, ans\n",
    "    \n",
    "        \n",
    "armstrong_number_check(370)\n",
    "    "
   ]
  },
  {
   "cell_type": "markdown",
   "id": "67470c4b",
   "metadata": {},
   "source": [
    "1.11) Write a Python Program to Check if a Number is a Perfect Number?\n",
    "A perfect number is a positive integer that is equal to the sum of its positive divisors, excluding the number itself. For instance, 6 has divisors 1, 2 and 3, and 1 + 2 + 3 = 6, so 6 is a perfect number."
   ]
  },
  {
   "cell_type": "code",
   "execution_count": 312,
   "id": "d7ebe8f5",
   "metadata": {},
   "outputs": [
    {
     "data": {
      "text/plain": [
       "('factors:', [1], 29, 'is not a perfect number')"
      ]
     },
     "execution_count": 312,
     "metadata": {},
     "output_type": "execute_result"
    }
   ],
   "source": [
    "factors = []\n",
    "def perfect_check(number):\n",
    "    #I will start be finding divisors/factors of the number\n",
    "    \n",
    "    for i in range(1, number ): #input number will be one of the factors but we dont include it\n",
    "        if number % i == 0:\n",
    "            factors.append(i)\n",
    "#         print(factors)\n",
    "            \n",
    "        if sum(factors) == number:\n",
    "            ans = \"is a perfect number\"\n",
    "        else:\n",
    "            ans = \"is not a perfect number\"\n",
    "    return \"factors:\", factors, number, ans\n",
    "        \n",
    "perfect_check(29)"
   ]
  },
  {
   "cell_type": "markdown",
   "id": "cf8610e1",
   "metadata": {},
   "source": [
    "1.12) Write a Python Program to Find the Second Largest Number in a List?"
   ]
  },
  {
   "cell_type": "code",
   "execution_count": 313,
   "id": "7d25d1b2",
   "metadata": {},
   "outputs": [
    {
     "data": {
      "text/plain": [
       "101"
      ]
     },
     "execution_count": 313,
     "metadata": {},
     "output_type": "execute_result"
    }
   ],
   "source": [
    "def second_largest(number_list):\n",
    "    \n",
    "    number_list.sort() #This sort the list in ascending order\n",
    "    ans = number_list[-2]\n",
    "    return ans\n",
    "\n",
    "A =[55, 77, 1, 3, 10, 554, 86, 100, 101]\n",
    "second_largest(A)"
   ]
  },
  {
   "cell_type": "markdown",
   "id": "6db23bd6",
   "metadata": {},
   "source": [
    "1.13) Write a Python Program to Swap the First and Last Value of a List?"
   ]
  },
  {
   "cell_type": "code",
   "execution_count": 314,
   "id": "ffebd2df",
   "metadata": {},
   "outputs": [
    {
     "data": {
      "text/plain": [
       "[11, 3, 5, 20, 2]"
      ]
     },
     "execution_count": 314,
     "metadata": {},
     "output_type": "execute_result"
    }
   ],
   "source": [
    "def swap(List):\n",
    "    first_value = List[0]\n",
    "    last_value = List[-1]\n",
    "    \n",
    "    List[0] = last_value\n",
    "    List[-1] = first_value\n",
    "    \n",
    "    return(List)\n",
    "\n",
    "swap(List = [2, 3, 5, 20, 11])"
   ]
  },
  {
   "cell_type": "markdown",
   "id": "c33492d7",
   "metadata": {},
   "source": [
    "1.14) Write a Python Program to Count the Number of Vowels in a String?"
   ]
  },
  {
   "cell_type": "code",
   "execution_count": 315,
   "id": "8c4a4833",
   "metadata": {},
   "outputs": [
    {
     "data": {
      "text/plain": [
       "11"
      ]
     },
     "execution_count": 315,
     "metadata": {},
     "output_type": "execute_result"
    }
   ],
   "source": [
    "def vowel_count(string):\n",
    "    a_count = string.count('a') + string.count('A')\n",
    "    e_count = string.count('e') + string.count('E')\n",
    "    i_count = string.count('i') + string.count('I')\n",
    "    o_count = string.count('o') + string.count('O')\n",
    "    u_count = string.count('u') + string.count('U')\n",
    "    \n",
    "    total_vowels = a_count + e_count + i_count + o_count + u_count\n",
    "    return total_vowels\n",
    "\n",
    "vowel_count('XihlukE Brownie MathedimOsA') #The code counts both small and upper case vowels"
   ]
  },
  {
   "cell_type": "markdown",
   "id": "bf9df139",
   "metadata": {},
   "source": [
    "1.15) Write a Python Program to Check Common Letters in Two Input Strings?*"
   ]
  },
  {
   "cell_type": "code",
   "execution_count": 316,
   "id": "1e9a4929",
   "metadata": {},
   "outputs": [
    {
     "name": "stdout",
     "output_type": "stream",
     "text": [
      "Common letters:\n"
     ]
    },
    {
     "data": {
      "text/plain": [
       "['e', 'i']"
      ]
     },
     "execution_count": 316,
     "metadata": {},
     "output_type": "execute_result"
    }
   ],
   "source": [
    "\n",
    "letters = []\n",
    "def common_letters(string_1, string_2):\n",
    "    set_1 = set(string_1)\n",
    "    set_2 = set(string_2)\n",
    "    \n",
    "    List = list(set_1 & set_2) #This code here select the letters that are common between the two inputs\n",
    "    print ('Common letters:')\n",
    "#     print(List)\n",
    "    \n",
    "    for i in List:\n",
    "        letters.append(i)\n",
    "        \n",
    "    return letters\n",
    "\n",
    "common_letters(\"Brownie\", \"xihluke\")"
   ]
  }
 ],
 "metadata": {
  "kernelspec": {
   "display_name": "Python 3",
   "language": "python",
   "name": "python3"
  },
  "language_info": {
   "codemirror_mode": {
    "name": "ipython",
    "version": 3
   },
   "file_extension": ".py",
   "mimetype": "text/x-python",
   "name": "python",
   "nbconvert_exporter": "python",
   "pygments_lexer": "ipython3",
   "version": "3.8.8"
  }
 },
 "nbformat": 4,
 "nbformat_minor": 5
}
